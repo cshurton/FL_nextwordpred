{
 "cells": [
  {
   "cell_type": "markdown",
   "metadata": {},
   "source": [
    "# Analyzing data: SENTIMENT 140\n",
    "\n",
    "questions to answer:\n",
    "- how many tweets are there in the dataset?\n",
    "- what is the time interval of the tweets?\n",
    "- how many users tweet?\n",
    "- how often do users tweet?\n",
    "- What is the mean, std etc of their activity?\n",
    "- how frequently do they tweet?\n",
    "- how many words do they tweet?\n",
    "- what is the vocab size?"
   ]
  },
  {
   "cell_type": "code",
   "execution_count": 1,
   "metadata": {},
   "outputs": [],
   "source": [
    "import numpy as np\n",
    "import pandas as pd\n",
    "import matplotlib.pyplot as plt\n",
    "from  scipy.stats import kurtosis\n",
    "import nltk\n",
    "from nltk.corpus import stopwords\n",
    "\n",
    "from preprocessing_data import create_dataset_sent140, preprocessing\n"
   ]
  },
  {
   "cell_type": "code",
   "execution_count": 2,
   "metadata": {},
   "outputs": [
    {
     "name": "stdout",
     "output_type": "stream",
     "text": [
      "Number of examples in database: 1600498\n"
     ]
    },
    {
     "data": {
      "text/html": [
       "<div>\n",
       "<style scoped>\n",
       "    .dataframe tbody tr th:only-of-type {\n",
       "        vertical-align: middle;\n",
       "    }\n",
       "\n",
       "    .dataframe tbody tr th {\n",
       "        vertical-align: top;\n",
       "    }\n",
       "\n",
       "    .dataframe thead th {\n",
       "        text-align: right;\n",
       "    }\n",
       "</style>\n",
       "<table border=\"1\" class=\"dataframe\">\n",
       "  <thead>\n",
       "    <tr style=\"text-align: right;\">\n",
       "      <th></th>\n",
       "      <th>id</th>\n",
       "      <th>date</th>\n",
       "      <th>user</th>\n",
       "      <th>tweet</th>\n",
       "    </tr>\n",
       "  </thead>\n",
       "  <tbody>\n",
       "    <tr>\n",
       "      <th>0</th>\n",
       "      <td>1467810369</td>\n",
       "      <td>2009-04-06 22:19:45</td>\n",
       "      <td>_TheSpecialOne_</td>\n",
       "      <td>@switchfoot http://twitpic.com/2y1zl - Awww, t...</td>\n",
       "    </tr>\n",
       "    <tr>\n",
       "      <th>1</th>\n",
       "      <td>1467810672</td>\n",
       "      <td>2009-04-06 22:19:49</td>\n",
       "      <td>scotthamilton</td>\n",
       "      <td>is upset that he can't update his Facebook by ...</td>\n",
       "    </tr>\n",
       "    <tr>\n",
       "      <th>2</th>\n",
       "      <td>1467810917</td>\n",
       "      <td>2009-04-06 22:19:53</td>\n",
       "      <td>mattycus</td>\n",
       "      <td>@Kenichan I dived many times for the ball. Man...</td>\n",
       "    </tr>\n",
       "    <tr>\n",
       "      <th>3</th>\n",
       "      <td>1467811184</td>\n",
       "      <td>2009-04-06 22:19:57</td>\n",
       "      <td>ElleCTF</td>\n",
       "      <td>my whole body feels itchy and like its on fire</td>\n",
       "    </tr>\n",
       "    <tr>\n",
       "      <th>4</th>\n",
       "      <td>1467811193</td>\n",
       "      <td>2009-04-06 22:19:57</td>\n",
       "      <td>Karoli</td>\n",
       "      <td>@nationwideclass no, it's not behaving at all....</td>\n",
       "    </tr>\n",
       "  </tbody>\n",
       "</table>\n",
       "</div>"
      ],
      "text/plain": [
       "           id                date             user  \\\n",
       "0  1467810369 2009-04-06 22:19:45  _TheSpecialOne_   \n",
       "1  1467810672 2009-04-06 22:19:49    scotthamilton   \n",
       "2  1467810917 2009-04-06 22:19:53         mattycus   \n",
       "3  1467811184 2009-04-06 22:19:57          ElleCTF   \n",
       "4  1467811193 2009-04-06 22:19:57           Karoli   \n",
       "\n",
       "                                               tweet  \n",
       "0  @switchfoot http://twitpic.com/2y1zl - Awww, t...  \n",
       "1  is upset that he can't update his Facebook by ...  \n",
       "2  @Kenichan I dived many times for the ball. Man...  \n",
       "3    my whole body feels itchy and like its on fire   \n",
       "4  @nationwideclass no, it's not behaving at all....  "
      ]
     },
     "execution_count": 2,
     "metadata": {},
     "output_type": "execute_result"
    }
   ],
   "source": [
    "# it can take a few minutes to run\n",
    "df = create_dataset_sent140(with_preprocessing=False)\n",
    "\n",
    "df.head()"
   ]
  },
  {
   "cell_type": "code",
   "execution_count": 3,
   "metadata": {},
   "outputs": [
    {
     "name": "stdout",
     "output_type": "stream",
     "text": [
      "The first tweet looks like this: \n",
      "\n",
      "@switchfoot http://twitpic.com/2y1zl - Awww, that's a bummer.  You shoulda got David Carr of Third Day to do it. ;D\n"
     ]
    }
   ],
   "source": [
    "print(f\"The first tweet looks like this: \\n\\n{df.loc[0, 'tweet']}\")"
   ]
  },
  {
   "cell_type": "markdown",
   "metadata": {},
   "source": [
    "## how many tweets are there in the dataset?"
   ]
  },
  {
   "cell_type": "code",
   "execution_count": 4,
   "metadata": {},
   "outputs": [
    {
     "name": "stdout",
     "output_type": "stream",
     "text": [
      "Number of entries: 1600498\n"
     ]
    }
   ],
   "source": [
    "print(f\"Number of entries: {len(df)}\")"
   ]
  },
  {
   "cell_type": "markdown",
   "metadata": {},
   "source": [
    "## what is the time interval of the tweets?"
   ]
  },
  {
   "cell_type": "code",
   "execution_count": 5,
   "metadata": {},
   "outputs": [
    {
     "name": "stdout",
     "output_type": "stream",
     "text": [
      "Earliest tweet: 2009-04-06 22:19:45\n",
      "Latest tweet: 2009-06-25 10:28:31\n"
     ]
    }
   ],
   "source": [
    "print(f\"Earliest tweet: {df.date.min()}\")\n",
    "print(f\"Latest tweet: {df.date.max()}\")"
   ]
  },
  {
   "cell_type": "markdown",
   "metadata": {},
   "source": [
    "## how many users tweet? "
   ]
  },
  {
   "cell_type": "code",
   "execution_count": 6,
   "metadata": {},
   "outputs": [
    {
     "name": "stdout",
     "output_type": "stream",
     "text": [
      "Users in dataset: 660120\n"
     ]
    }
   ],
   "source": [
    "number_of_users = len(df.user.unique())\n",
    "print(f\"Users in dataset: {number_of_users}\")"
   ]
  },
  {
   "cell_type": "markdown",
   "metadata": {},
   "source": [
    "## how often users tweet? what is the mean, std etc of their activity?"
   ]
  },
  {
   "cell_type": "code",
   "execution_count": 7,
   "metadata": {},
   "outputs": [
    {
     "name": "stdout",
     "output_type": "stream",
     "text": [
      "mean (tweets/user): 2.424556141307641\n",
      "std (tweets/user): 4.70993610025193\n",
      "max (tweets/user): 549\n",
      "min (tweets/user): 1\n",
      "1% of users tweets more than 19.0, \n",
      "    - appr: 6601.0 users have 125423.0 tweets\n",
      "2% of users tweets more than 13.0, \n",
      "    - appr: 19803.0 users have 297054.0 tweets\n",
      "3% of users tweets more than 10.0, \n",
      "    - appr: 39607.0 users have 495090.0 tweets\n",
      "4% of users tweets more than 8.0, \n",
      "    - appr: 66012.0 users have 706328.0 tweets\n",
      "5% of users tweets more than 7.0, \n",
      "    - appr: 99018.0 users have 937370.0 tweets\n",
      "6% of users tweets more than 6.0, \n",
      "    - appr: 138625.0 users have 1175013.0 tweets\n",
      "8% of users tweets more than 5.0, \n",
      "    - appr: 191435.0 users have 1439061.0 tweets\n",
      "11% of users tweets more than 4.0, \n",
      "    - appr: 264048.0 users have 1729514.0 tweets\n",
      "15% of users tweets more than 3.0, \n",
      "    - appr: 363066.0 users have 2026568.0 tweets\n",
      "22% of users tweets more than 2.0, \n",
      "    - appr: 508292.0 users have 2317021.0 tweets\n",
      "39% of users tweets more than 1.0, \n",
      "    - appr: 765739.0 users have 2574468.0 tweets\n"
     ]
    }
   ],
   "source": [
    "user_number_of_tweets = {}\n",
    "\n",
    "for user in df.user:\n",
    "    if user in user_number_of_tweets:\n",
    "        user_number_of_tweets[user] += 1\n",
    "    else:\n",
    "        user_number_of_tweets[user] = 1\n",
    "\n",
    "tweets_per_user = np.array(list(user_number_of_tweets.values()))\n",
    "print(f\"mean (tweets/user): {np.mean(tweets_per_user)}\")\n",
    "print(f\"std (tweets/user): {np.std(tweets_per_user)}\")\n",
    "print(f\"max (tweets/user): {np.max(tweets_per_user)}\")\n",
    "print(f\"min (tweets/user): {np.min(tweets_per_user)}\")\n",
    "\n",
    "shown = []\n",
    "user_sum = 0\n",
    "tweet_sum = 0\n",
    "for i in range(100):\n",
    "    if np.percentile(tweets_per_user, 99-i) in shown:\n",
    "        continue\n",
    "    else:\n",
    "        user_sum += np.round((i+1)/100*number_of_users)\n",
    "        tweet_sum += np.round((i+1)/100*number_of_users*np.percentile(tweets_per_user, 99-i), 0)\n",
    "        print(f\"{i+1}% of users tweets more than {np.percentile(tweets_per_user, 99-i)}, \\n    - appr: {user_sum} users have {tweet_sum} tweets\")\n",
    "        shown.append(np.percentile(tweets_per_user, 99-i))\n"
   ]
  },
  {
   "cell_type": "code",
   "execution_count": 8,
   "metadata": {},
   "outputs": [
    {
     "data": {
      "image/png": "[encoded data removed]",
      "text/plain": [
       "<Figure size 432x288 with 1 Axes>"
      ]
     },
     "metadata": {
      "needs_background": "light"
     },
     "output_type": "display_data"
    }
   ],
   "source": [
    "sorted_tpu = np.sort(tweets_per_user)[::-1]\n",
    "\n",
    "fig, ax = plt.subplots(1)\n",
    "ax.plot(range(1000), sorted_tpu[:1000])\n",
    "ax.set_ylim(0, max(sorted_tpu[:1000]))\n",
    "plt.show(fig)"
   ]
  },
  {
   "cell_type": "markdown",
   "metadata": {},
   "source": [
    "## how frequently they tweet?"
   ]
  },
  {
   "cell_type": "markdown",
   "metadata": {},
   "source": [
    "we can say pretty rarely, best 1% tweets 19 within 2.5 months time. There will be outliers, of course."
   ]
  },
  {
   "cell_type": "markdown",
   "metadata": {},
   "source": [
    "## all of the words in tweets, vocab size\n",
    "before preprocessing:"
   ]
  },
  {
   "cell_type": "code",
   "execution_count": 9,
   "metadata": {},
   "outputs": [
    {
     "name": "stdout",
     "output_type": "stream",
     "text": [
      "All the words in the tweets: 21088591\n",
      "Vocab size: 1351133\n"
     ]
    }
   ],
   "source": [
    "words = {}\n",
    "for tweet in df.tweet:\n",
    "    for word in tweet.split():\n",
    "        \n",
    "        if word in words:\n",
    "            words[word] += 1\n",
    "        else:\n",
    "            words[word] = 1\n",
    "\n",
    "print(f\"All the words in the tweets: {np.array(list(words.values())).sum()}\")\n",
    "print(f\"Vocab size: {len(words)}\")"
   ]
  },
  {
   "cell_type": "markdown",
   "metadata": {},
   "source": [
    "after some preprocessing:\n"
   ]
  },
  {
   "cell_type": "code",
   "execution_count": 10,
   "metadata": {},
   "outputs": [],
   "source": [
    "# only works when at the start df = create_dataset_sent140(with_preprocessing=True) was run - extremely time-consuming\n",
    "# I copied the output that comes after removing twitter-specific syntax, punctuation, stopwords, and replacing words \n",
    "# with their stems.\n",
    "\n",
    "# preprocessing will certainly change to fit to the chosen model's purposes.\n",
    "\n",
    "# words = {}\n",
    "# for tweet in df.preprocessed_tweet:\n",
    "#     for word in tweet:\n",
    "\n",
    "#         if word in words:\n",
    "#             words[word] += 1\n",
    "#         else:\n",
    "#             words[word] = 1\n",
    "\n",
    "# print(f\"All the words in the tweets: {np.array(list(words.values())).sum()}\")\n",
    "# print(f\"Vocab size: {len(words)}\")\n",
    "\n"
   ]
  },
  {
   "cell_type": "markdown",
   "metadata": {},
   "source": [
    "Output: \n",
    "\n",
    "```\n",
    "All the words in the tweets: 11917587\n",
    "Vocab size: 273034\n",
    "```"
   ]
  },
  {
   "cell_type": "code",
   "execution_count": null,
   "metadata": {},
   "outputs": [],
   "source": []
  }
 ],
 "metadata": {
  "kernelspec": {
   "display_name": "Python 3",
   "language": "python",
   "name": "python3"
  },
  "language_info": {
   "codemirror_mode": {
    "name": "ipython",
    "version": 3
   },
   "file_extension": ".py",
   "mimetype": "text/x-python",
   "name": "python",
   "nbconvert_exporter": "python",
   "pygments_lexer": "ipython3",
   "version": "3.8.5"
  }
 },
 "nbformat": 4,
 "nbformat_minor": 4
}
